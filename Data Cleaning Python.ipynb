{
  "cells": [
    {
      "cell_type": "markdown",
      "source": [
        "**Novita Purwoningtyas**\n",
        "\n",
        "**Data Science Batch 08**"
      ],
      "metadata": {
        "id": "hpb1EmKcUjqO"
      }
    },
    {
      "cell_type": "markdown",
      "source": [
        "#Informasi data"
      ],
      "metadata": {
        "id": "dsOv_wTnTe6p"
      }
    },
    {
      "cell_type": "markdown",
      "metadata": {
        "id": "oU-d4XeFC8sN"
      },
      "source": [
        "Telco customer churn berisi informasi tentang perusahaan telekomunikasi fiktif yang menyediakan layanan telepon rumah dan Internet kepada 7043 pelanggan. Adapun deskripsi dari masing - masing kolom adalah : \n",
        "\n",
        "\n",
        "1. **Customer ID** = Nomer ID customer.\n",
        "2. **Gender** = Gender customer.\n",
        "3. **SeniorCitizen** = Menunjukan cutomer tersebut senior (sudah tua) atau belum.\n",
        "4. **Partner** = Menunjukan customer tersebut punya partner atau tidak.\n",
        "5. **Dependents** = Menunjukan apakah customer tersebut punya tanggungan(anak/ortu/dll) atau tidak.\n",
        "6. **Tenure** = Menunjukan berapa lama customer tersebut bertahan pada perusahaan.\n",
        "7. **PhoneService** = Menunjukkan jika customer berlangganan layanan telepon rumah dengan perusahaan.\n",
        "8. **MultipleLines** = Menunjukkan jika customer berlangganan beberapa saluran telepon dengan perusahaan.\n",
        "9. **InternetService** = Menunjukkan jika customer berlangganan layanan Internet dengan perusahaan.\n",
        "10. **OnlineSecurity** = Menunjukkan jika customer berlangganan layanan keamanan online tambahan yang disediakan oleh perusahaan.\n",
        "11. **OnlineBackup** = Menunjukkan jika customer berlangganan layanan pencadangan (backup) online tambahan yang disediakan oleh perusahaan.\n",
        "12. **DeviceProtection** = Menunjukkan jika customer berlangganan paket perlindungan perangkat tambahan untuk peralatan Internet mereka yang disediakan oleh perusahaan.\n",
        "13. **TechSupport** = Menunjukkan jika customer berlangganan paket dukungan teknis tambahan dari perusahaan. \n",
        "14. **StreamingTV** = Menunjukkan jika pelanggan menggunakan layanan Internet mereka untuk melakukan streaming program televisi.\n",
        "15. **StreamingMovies** = Menunjukkan jika pelanggan menggunakan layanan Internet mereka untuk streaming film.\n",
        "16. **Contract** = Menunjukkan jenis kontrak pelanggan saat ini: Bulan-ke-Bulan, Satu Tahun, Dua Tahun.\n",
        "17. **PaperlessBilling** = Menunjukkan jika pelanggan telah memilih penagihan tanpa kertas.\n",
        "18. **PaymentMethod** = Menunjukkan bagaimana pelanggan membayar tagihan mereka.\n",
        "19. **MonthlyCharges** = Menunjukkan total biaya bulanan pelanggan saat ini untuk semua layanan mereka dari perusahaan.\n",
        "20. **TotalCharges** = Menunjukkan total biaya customer.\n",
        "21. **Chrun** = Menunjukan apakah pelanggan tersebut pindah atau tidak(pelanggan yang pergi dalam sebulan terakhir).\n"
      ]
    },
    {
      "cell_type": "markdown",
      "source": [
        "#Import library dan data"
      ],
      "metadata": {
        "id": "EArokDrSTy3E"
      }
    },
    {
      "cell_type": "code",
      "execution_count": 1,
      "metadata": {
        "id": "g8a0yR4bCVGl"
      },
      "outputs": [],
      "source": [
        "#Mengimport library yang digunakan\n",
        "import pandas as pd\n",
        "import numpy as np\n",
        "from sklearn import preprocessing\n",
        "from scipy import stats\n",
        "import matplotlib.pyplot as plt"
      ]
    },
    {
      "cell_type": "code",
      "execution_count": 2,
      "metadata": {
        "colab": {
          "base_uri": "https://localhost:8080/",
          "height": 0
        },
        "id": "BlaFqzyXCmXy",
        "outputId": "c112cdc2-7d78-4c11-fe6d-999eb51d88a7"
      },
      "outputs": [
        {
          "output_type": "execute_result",
          "data": {
            "text/html": [
              "<div>\n",
              "<style scoped>\n",
              "    .dataframe tbody tr th:only-of-type {\n",
              "        vertical-align: middle;\n",
              "    }\n",
              "\n",
              "    .dataframe tbody tr th {\n",
              "        vertical-align: top;\n",
              "    }\n",
              "\n",
              "    .dataframe thead th {\n",
              "        text-align: right;\n",
              "    }\n",
              "</style>\n",
              "<table border=\"1\" class=\"dataframe\">\n",
              "  <thead>\n",
              "    <tr style=\"text-align: right;\">\n",
              "      <th></th>\n",
              "      <th>customerID</th>\n",
              "      <th>gender</th>\n",
              "      <th>SeniorCitizen</th>\n",
              "      <th>Partner</th>\n",
              "      <th>Dependents</th>\n",
              "      <th>tenure</th>\n",
              "      <th>PhoneService</th>\n",
              "      <th>MultipleLines</th>\n",
              "      <th>InternetService</th>\n",
              "      <th>OnlineSecurity</th>\n",
              "      <th>OnlineBackup</th>\n",
              "      <th>DeviceProtection</th>\n",
              "      <th>TechSupport</th>\n",
              "      <th>StreamingTV</th>\n",
              "      <th>StreamingMovies</th>\n",
              "      <th>Contract</th>\n",
              "      <th>PaperlessBilling</th>\n",
              "      <th>PaymentMethod</th>\n",
              "      <th>MonthlyCharges</th>\n",
              "      <th>TotalCharges</th>\n",
              "      <th>Churn</th>\n",
              "    </tr>\n",
              "  </thead>\n",
              "  <tbody>\n",
              "    <tr>\n",
              "      <th>3378</th>\n",
              "      <td>5766-FTRTS</td>\n",
              "      <td>Male</td>\n",
              "      <td>0</td>\n",
              "      <td>Yes</td>\n",
              "      <td>No</td>\n",
              "      <td>72</td>\n",
              "      <td>Yes</td>\n",
              "      <td>No</td>\n",
              "      <td>DSL</td>\n",
              "      <td>Yes</td>\n",
              "      <td>Yes</td>\n",
              "      <td>Yes</td>\n",
              "      <td>Yes</td>\n",
              "      <td>Yes</td>\n",
              "      <td>Yes</td>\n",
              "      <td>Two year</td>\n",
              "      <td>No</td>\n",
              "      <td>Mailed check</td>\n",
              "      <td>84.45</td>\n",
              "      <td>6033.1</td>\n",
              "      <td>No</td>\n",
              "    </tr>\n",
              "    <tr>\n",
              "      <th>4557</th>\n",
              "      <td>5944-UGLLK</td>\n",
              "      <td>Male</td>\n",
              "      <td>0</td>\n",
              "      <td>No</td>\n",
              "      <td>No</td>\n",
              "      <td>53</td>\n",
              "      <td>No</td>\n",
              "      <td>No phone service</td>\n",
              "      <td>DSL</td>\n",
              "      <td>No</td>\n",
              "      <td>No</td>\n",
              "      <td>Yes</td>\n",
              "      <td>Yes</td>\n",
              "      <td>Yes</td>\n",
              "      <td>Yes</td>\n",
              "      <td>One year</td>\n",
              "      <td>No</td>\n",
              "      <td>Credit card (automatic)</td>\n",
              "      <td>54.90</td>\n",
              "      <td>3045.75</td>\n",
              "      <td>No</td>\n",
              "    </tr>\n",
              "    <tr>\n",
              "      <th>5225</th>\n",
              "      <td>5376-PCKNB</td>\n",
              "      <td>Male</td>\n",
              "      <td>0</td>\n",
              "      <td>Yes</td>\n",
              "      <td>Yes</td>\n",
              "      <td>72</td>\n",
              "      <td>Yes</td>\n",
              "      <td>Yes</td>\n",
              "      <td>Fiber optic</td>\n",
              "      <td>No</td>\n",
              "      <td>Yes</td>\n",
              "      <td>Yes</td>\n",
              "      <td>No</td>\n",
              "      <td>Yes</td>\n",
              "      <td>Yes</td>\n",
              "      <td>One year</td>\n",
              "      <td>Yes</td>\n",
              "      <td>Credit card (automatic)</td>\n",
              "      <td>104.45</td>\n",
              "      <td>7459</td>\n",
              "      <td>No</td>\n",
              "    </tr>\n",
              "    <tr>\n",
              "      <th>4089</th>\n",
              "      <td>4282-YMKNA</td>\n",
              "      <td>Female</td>\n",
              "      <td>0</td>\n",
              "      <td>No</td>\n",
              "      <td>No</td>\n",
              "      <td>9</td>\n",
              "      <td>Yes</td>\n",
              "      <td>Yes</td>\n",
              "      <td>Fiber optic</td>\n",
              "      <td>No</td>\n",
              "      <td>No</td>\n",
              "      <td>No</td>\n",
              "      <td>No</td>\n",
              "      <td>No</td>\n",
              "      <td>No</td>\n",
              "      <td>Month-to-month</td>\n",
              "      <td>Yes</td>\n",
              "      <td>Electronic check</td>\n",
              "      <td>74.75</td>\n",
              "      <td>706.6</td>\n",
              "      <td>Yes</td>\n",
              "    </tr>\n",
              "    <tr>\n",
              "      <th>4306</th>\n",
              "      <td>2931-SVLTV</td>\n",
              "      <td>Male</td>\n",
              "      <td>0</td>\n",
              "      <td>Yes</td>\n",
              "      <td>Yes</td>\n",
              "      <td>40</td>\n",
              "      <td>Yes</td>\n",
              "      <td>Yes</td>\n",
              "      <td>Fiber optic</td>\n",
              "      <td>Yes</td>\n",
              "      <td>Yes</td>\n",
              "      <td>No</td>\n",
              "      <td>Yes</td>\n",
              "      <td>Yes</td>\n",
              "      <td>Yes</td>\n",
              "      <td>Month-to-month</td>\n",
              "      <td>Yes</td>\n",
              "      <td>Credit card (automatic)</td>\n",
              "      <td>110.10</td>\n",
              "      <td>4469.1</td>\n",
              "      <td>No</td>\n",
              "    </tr>\n",
              "  </tbody>\n",
              "</table>\n",
              "</div>"
            ],
            "text/plain": [
              "      customerID  gender  SeniorCitizen  ... MonthlyCharges TotalCharges  Churn\n",
              "3378  5766-FTRTS    Male              0  ...          84.45       6033.1     No\n",
              "4557  5944-UGLLK    Male              0  ...          54.90      3045.75     No\n",
              "5225  5376-PCKNB    Male              0  ...         104.45         7459     No\n",
              "4089  4282-YMKNA  Female              0  ...          74.75        706.6    Yes\n",
              "4306  2931-SVLTV    Male              0  ...         110.10       4469.1     No\n",
              "\n",
              "[5 rows x 21 columns]"
            ]
          },
          "metadata": {},
          "execution_count": 2
        }
      ],
      "source": [
        "data = pd.read_csv('/content/WA_Fn-UseC_-Telco-Customer-Churn.csv')\n",
        "data.sample(5)"
      ]
    },
    {
      "cell_type": "markdown",
      "metadata": {
        "id": "YVcau1HlTPLx"
      },
      "source": [
        "#Missing Value"
      ]
    },
    {
      "cell_type": "markdown",
      "metadata": {
        "id": "kMn12vh0T_xZ"
      },
      "source": [
        "Mengecek missing value perlu di lakukan agar dapat memastikan apakah dalam suatu data set ada data yang missing atau mungkin ada data yang aneh/berbeda dengan data - data lainya. Karna jika ada missing value maka model Machine Learning tidak akan berjalan dengan benar(Error)."
      ]
    },
    {
      "cell_type": "code",
      "execution_count": 3,
      "metadata": {
        "colab": {
          "base_uri": "https://localhost:8080/"
        },
        "id": "9Q-4p1EnNfMV",
        "outputId": "5be52a71-06f6-4d9d-99ed-86c06a9aa373"
      },
      "outputs": [
        {
          "output_type": "stream",
          "name": "stdout",
          "text": [
            "<class 'pandas.core.frame.DataFrame'>\n",
            "RangeIndex: 7043 entries, 0 to 7042\n",
            "Data columns (total 21 columns):\n",
            " #   Column            Non-Null Count  Dtype  \n",
            "---  ------            --------------  -----  \n",
            " 0   customerID        7043 non-null   object \n",
            " 1   gender            7043 non-null   object \n",
            " 2   SeniorCitizen     7043 non-null   int64  \n",
            " 3   Partner           7043 non-null   object \n",
            " 4   Dependents        7043 non-null   object \n",
            " 5   tenure            7043 non-null   int64  \n",
            " 6   PhoneService      7043 non-null   object \n",
            " 7   MultipleLines     7043 non-null   object \n",
            " 8   InternetService   7043 non-null   object \n",
            " 9   OnlineSecurity    7043 non-null   object \n",
            " 10  OnlineBackup      7043 non-null   object \n",
            " 11  DeviceProtection  7043 non-null   object \n",
            " 12  TechSupport       7043 non-null   object \n",
            " 13  StreamingTV       7043 non-null   object \n",
            " 14  StreamingMovies   7043 non-null   object \n",
            " 15  Contract          7043 non-null   object \n",
            " 16  PaperlessBilling  7043 non-null   object \n",
            " 17  PaymentMethod     7043 non-null   object \n",
            " 18  MonthlyCharges    7043 non-null   float64\n",
            " 19  TotalCharges      7043 non-null   object \n",
            " 20  Churn             7043 non-null   object \n",
            "dtypes: float64(1), int64(2), object(18)\n",
            "memory usage: 1.1+ MB\n"
          ]
        }
      ],
      "source": [
        "#melihat data type dan missing value pada data set\n",
        "data.info()"
      ]
    },
    {
      "cell_type": "markdown",
      "metadata": {
        "id": "EPiO2o0dSrcJ"
      },
      "source": [
        "Dari hasil output diatas dapat dilihat bahwa tidak ada missing value dalam data set tersebut."
      ]
    },
    {
      "cell_type": "code",
      "execution_count": 4,
      "metadata": {
        "colab": {
          "base_uri": "https://localhost:8080/",
          "height": 0
        },
        "id": "WjtzjQh3Npx-",
        "outputId": "fe3597ca-274b-4e8b-efab-46c33bdd8019"
      },
      "outputs": [
        {
          "output_type": "stream",
          "name": "stdout",
          "text": [
            "============= customerID =================\n"
          ]
        },
        {
          "output_type": "display_data",
          "data": {
            "text/plain": [
              "5324-KTGCG    1\n",
              "1269-FOYWN    1\n",
              "6734-FQAJX    1\n",
              "8993-PHFWD    1\n",
              "9281-PKKZE    1\n",
              "             ..\n",
              "0895-LMRSF    1\n",
              "0322-YINQP    1\n",
              "0702-PGIBZ    1\n",
              "8046-DNVTL    1\n",
              "7860-UXCRM    1\n",
              "Name: customerID, Length: 7043, dtype: int64"
            ]
          },
          "metadata": {}
        },
        {
          "output_type": "stream",
          "name": "stdout",
          "text": [
            "\n",
            "============= gender =================\n"
          ]
        },
        {
          "output_type": "display_data",
          "data": {
            "text/plain": [
              "Male      3555\n",
              "Female    3488\n",
              "Name: gender, dtype: int64"
            ]
          },
          "metadata": {}
        },
        {
          "output_type": "stream",
          "name": "stdout",
          "text": [
            "\n",
            "============= SeniorCitizen =================\n"
          ]
        },
        {
          "output_type": "display_data",
          "data": {
            "text/plain": [
              "0    5901\n",
              "1    1142\n",
              "Name: SeniorCitizen, dtype: int64"
            ]
          },
          "metadata": {}
        },
        {
          "output_type": "stream",
          "name": "stdout",
          "text": [
            "\n",
            "============= Partner =================\n"
          ]
        },
        {
          "output_type": "display_data",
          "data": {
            "text/plain": [
              "No     3641\n",
              "Yes    3402\n",
              "Name: Partner, dtype: int64"
            ]
          },
          "metadata": {}
        },
        {
          "output_type": "stream",
          "name": "stdout",
          "text": [
            "\n",
            "============= Dependents =================\n"
          ]
        },
        {
          "output_type": "display_data",
          "data": {
            "text/plain": [
              "No     4933\n",
              "Yes    2110\n",
              "Name: Dependents, dtype: int64"
            ]
          },
          "metadata": {}
        },
        {
          "output_type": "stream",
          "name": "stdout",
          "text": [
            "\n",
            "============= tenure =================\n"
          ]
        },
        {
          "output_type": "display_data",
          "data": {
            "text/plain": [
              "1     613\n",
              "72    362\n",
              "2     238\n",
              "3     200\n",
              "4     176\n",
              "     ... \n",
              "28     57\n",
              "39     56\n",
              "44     51\n",
              "36     50\n",
              "0      11\n",
              "Name: tenure, Length: 73, dtype: int64"
            ]
          },
          "metadata": {}
        },
        {
          "output_type": "stream",
          "name": "stdout",
          "text": [
            "\n",
            "============= PhoneService =================\n"
          ]
        },
        {
          "output_type": "display_data",
          "data": {
            "text/plain": [
              "Yes    6361\n",
              "No      682\n",
              "Name: PhoneService, dtype: int64"
            ]
          },
          "metadata": {}
        },
        {
          "output_type": "stream",
          "name": "stdout",
          "text": [
            "\n",
            "============= MultipleLines =================\n"
          ]
        },
        {
          "output_type": "display_data",
          "data": {
            "text/plain": [
              "No                  3390\n",
              "Yes                 2971\n",
              "No phone service     682\n",
              "Name: MultipleLines, dtype: int64"
            ]
          },
          "metadata": {}
        },
        {
          "output_type": "stream",
          "name": "stdout",
          "text": [
            "\n",
            "============= InternetService =================\n"
          ]
        },
        {
          "output_type": "display_data",
          "data": {
            "text/plain": [
              "Fiber optic    3096\n",
              "DSL            2421\n",
              "No             1526\n",
              "Name: InternetService, dtype: int64"
            ]
          },
          "metadata": {}
        },
        {
          "output_type": "stream",
          "name": "stdout",
          "text": [
            "\n",
            "============= OnlineSecurity =================\n"
          ]
        },
        {
          "output_type": "display_data",
          "data": {
            "text/plain": [
              "No                     3498\n",
              "Yes                    2019\n",
              "No internet service    1526\n",
              "Name: OnlineSecurity, dtype: int64"
            ]
          },
          "metadata": {}
        },
        {
          "output_type": "stream",
          "name": "stdout",
          "text": [
            "\n",
            "============= OnlineBackup =================\n"
          ]
        },
        {
          "output_type": "display_data",
          "data": {
            "text/plain": [
              "No                     3088\n",
              "Yes                    2429\n",
              "No internet service    1526\n",
              "Name: OnlineBackup, dtype: int64"
            ]
          },
          "metadata": {}
        },
        {
          "output_type": "stream",
          "name": "stdout",
          "text": [
            "\n",
            "============= DeviceProtection =================\n"
          ]
        },
        {
          "output_type": "display_data",
          "data": {
            "text/plain": [
              "No                     3095\n",
              "Yes                    2422\n",
              "No internet service    1526\n",
              "Name: DeviceProtection, dtype: int64"
            ]
          },
          "metadata": {}
        },
        {
          "output_type": "stream",
          "name": "stdout",
          "text": [
            "\n",
            "============= TechSupport =================\n"
          ]
        },
        {
          "output_type": "display_data",
          "data": {
            "text/plain": [
              "No                     3473\n",
              "Yes                    2044\n",
              "No internet service    1526\n",
              "Name: TechSupport, dtype: int64"
            ]
          },
          "metadata": {}
        },
        {
          "output_type": "stream",
          "name": "stdout",
          "text": [
            "\n",
            "============= StreamingTV =================\n"
          ]
        },
        {
          "output_type": "display_data",
          "data": {
            "text/plain": [
              "No                     2810\n",
              "Yes                    2707\n",
              "No internet service    1526\n",
              "Name: StreamingTV, dtype: int64"
            ]
          },
          "metadata": {}
        },
        {
          "output_type": "stream",
          "name": "stdout",
          "text": [
            "\n",
            "============= StreamingMovies =================\n"
          ]
        },
        {
          "output_type": "display_data",
          "data": {
            "text/plain": [
              "No                     2785\n",
              "Yes                    2732\n",
              "No internet service    1526\n",
              "Name: StreamingMovies, dtype: int64"
            ]
          },
          "metadata": {}
        },
        {
          "output_type": "stream",
          "name": "stdout",
          "text": [
            "\n",
            "============= Contract =================\n"
          ]
        },
        {
          "output_type": "display_data",
          "data": {
            "text/plain": [
              "Month-to-month    3875\n",
              "Two year          1695\n",
              "One year          1473\n",
              "Name: Contract, dtype: int64"
            ]
          },
          "metadata": {}
        },
        {
          "output_type": "stream",
          "name": "stdout",
          "text": [
            "\n",
            "============= PaperlessBilling =================\n"
          ]
        },
        {
          "output_type": "display_data",
          "data": {
            "text/plain": [
              "Yes    4171\n",
              "No     2872\n",
              "Name: PaperlessBilling, dtype: int64"
            ]
          },
          "metadata": {}
        },
        {
          "output_type": "stream",
          "name": "stdout",
          "text": [
            "\n",
            "============= PaymentMethod =================\n"
          ]
        },
        {
          "output_type": "display_data",
          "data": {
            "text/plain": [
              "Electronic check             2365\n",
              "Mailed check                 1612\n",
              "Bank transfer (automatic)    1544\n",
              "Credit card (automatic)      1522\n",
              "Name: PaymentMethod, dtype: int64"
            ]
          },
          "metadata": {}
        },
        {
          "output_type": "stream",
          "name": "stdout",
          "text": [
            "\n",
            "============= MonthlyCharges =================\n"
          ]
        },
        {
          "output_type": "display_data",
          "data": {
            "text/plain": [
              "20.05     61\n",
              "19.85     45\n",
              "19.95     44\n",
              "19.90     44\n",
              "20.00     43\n",
              "          ..\n",
              "114.75     1\n",
              "103.60     1\n",
              "113.40     1\n",
              "57.65      1\n",
              "113.30     1\n",
              "Name: MonthlyCharges, Length: 1585, dtype: int64"
            ]
          },
          "metadata": {}
        },
        {
          "output_type": "stream",
          "name": "stdout",
          "text": [
            "\n",
            "============= TotalCharges =================\n"
          ]
        },
        {
          "output_type": "display_data",
          "data": {
            "text/plain": [
              "20.2       11\n",
              "           11\n",
              "19.75       9\n",
              "19.9        8\n",
              "19.65       8\n",
              "           ..\n",
              "692.55      1\n",
              "815.5       1\n",
              "914.6       1\n",
              "7412.25     1\n",
              "1363.25     1\n",
              "Name: TotalCharges, Length: 6531, dtype: int64"
            ]
          },
          "metadata": {}
        },
        {
          "output_type": "stream",
          "name": "stdout",
          "text": [
            "\n",
            "============= Churn =================\n"
          ]
        },
        {
          "output_type": "display_data",
          "data": {
            "text/plain": [
              "No     5174\n",
              "Yes    1869\n",
              "Name: Churn, dtype: int64"
            ]
          },
          "metadata": {}
        },
        {
          "output_type": "stream",
          "name": "stdout",
          "text": [
            "\n"
          ]
        }
      ],
      "source": [
        "#Mengecek apakah ada data yang aneh/berbeda pada keseluruhan data set\n",
        "for column in data.columns:\n",
        "    print(f\"============= {column} =================\")\n",
        "    display(data[column].value_counts())\n",
        "    print()"
      ]
    },
    {
      "cell_type": "markdown",
      "metadata": {
        "id": "IXP1PhS2TSWF"
      },
      "source": [
        "Pada hasil output diatas dapat dilihat bahwa ada data yang kosong pada kolom data TotalCharges. Data yang kosong tersebut isinya adalah string kosong berjumlah 11. "
      ]
    },
    {
      "cell_type": "code",
      "execution_count": 5,
      "metadata": {
        "colab": {
          "base_uri": "https://localhost:8080/"
        },
        "id": "_6-1pm9xY3Xm",
        "outputId": "9ab39de5-773f-44a2-f06c-156c64ff0372"
      },
      "outputs": [
        {
          "output_type": "execute_result",
          "data": {
            "text/plain": [
              "0.15618344455487718"
            ]
          },
          "metadata": {},
          "execution_count": 5
        }
      ],
      "source": [
        "#Mengecek berapa persen data string kosong pada kolom TotalCharges\n",
        "100 * len(data[data['TotalCharges']==' ']) / len(data)"
      ]
    },
    {
      "cell_type": "markdown",
      "metadata": {
        "id": "X4O-9ULugmAn"
      },
      "source": [
        "Ada 0.15% data yang kosong. Saya akan mengisi kolom yang berisi string kosong dengan nilai mean. "
      ]
    },
    {
      "cell_type": "code",
      "source": [
        "#Cek type data pada kolom TotalCharges\n",
        "data['TotalCharges']"
      ],
      "metadata": {
        "colab": {
          "base_uri": "https://localhost:8080/"
        },
        "id": "dke4k8_wJo39",
        "outputId": "a7894d8e-af85-4015-c0b9-ddebae9ad2e5"
      },
      "execution_count": 6,
      "outputs": [
        {
          "output_type": "execute_result",
          "data": {
            "text/plain": [
              "0         29.85\n",
              "1        1889.5\n",
              "2        108.15\n",
              "3       1840.75\n",
              "4        151.65\n",
              "         ...   \n",
              "7038     1990.5\n",
              "7039     7362.9\n",
              "7040     346.45\n",
              "7041      306.6\n",
              "7042     6844.5\n",
              "Name: TotalCharges, Length: 7043, dtype: object"
            ]
          },
          "metadata": {},
          "execution_count": 6
        }
      ]
    },
    {
      "cell_type": "markdown",
      "source": [
        "Karna type datanya object maka diubah dulu menjadi float."
      ],
      "metadata": {
        "id": "LuMA53g5L_Ts"
      }
    },
    {
      "cell_type": "code",
      "source": [
        "#Mengubah type datanya\n",
        "data['TotalCharges'] = pd.to_numeric(data['TotalCharges'],errors = 'coerce')"
      ],
      "metadata": {
        "id": "Az2qWcGjMDjz"
      },
      "execution_count": 7,
      "outputs": []
    },
    {
      "cell_type": "code",
      "source": [
        "data['TotalCharges']"
      ],
      "metadata": {
        "colab": {
          "base_uri": "https://localhost:8080/"
        },
        "id": "R5OkZQcYJy5p",
        "outputId": "a6cab08f-536a-401b-b690-e6e2641f4b6e"
      },
      "execution_count": 8,
      "outputs": [
        {
          "output_type": "execute_result",
          "data": {
            "text/plain": [
              "0         29.85\n",
              "1       1889.50\n",
              "2        108.15\n",
              "3       1840.75\n",
              "4        151.65\n",
              "         ...   \n",
              "7038    1990.50\n",
              "7039    7362.90\n",
              "7040     346.45\n",
              "7041     306.60\n",
              "7042    6844.50\n",
              "Name: TotalCharges, Length: 7043, dtype: float64"
            ]
          },
          "metadata": {},
          "execution_count": 8
        }
      ]
    },
    {
      "cell_type": "code",
      "execution_count": 9,
      "metadata": {
        "id": "KVb3CBRcbgbE"
      },
      "outputs": [],
      "source": [
        "#Mengisi data string kosong dengan nilai mean\n",
        "avg_TotalCharges = data[data['TotalCharges']!=' ']['TotalCharges'].mean()\n",
        "\n",
        "data['TotalCharges'] = data['TotalCharges'].apply(lambda x: avg_TotalCharges if x==' ' else x)"
      ]
    },
    {
      "cell_type": "code",
      "execution_count": 10,
      "metadata": {
        "colab": {
          "base_uri": "https://localhost:8080/"
        },
        "id": "TbjyMfSDbF3p",
        "outputId": "acdaa9fd-8ffe-435f-da06-2793b9a25346"
      },
      "outputs": [
        {
          "output_type": "execute_result",
          "data": {
            "text/plain": [
              "0.0"
            ]
          },
          "metadata": {},
          "execution_count": 10
        }
      ],
      "source": [
        "100 * len(data[data['TotalCharges']==' ']) / len(data)"
      ]
    },
    {
      "cell_type": "markdown",
      "metadata": {
        "id": "LKZ9SFmGbI8P"
      },
      "source": [
        "Sekarang sudah tidak ada lagi data string kosong pada kolom TotalCharges."
      ]
    },
    {
      "cell_type": "markdown",
      "metadata": {
        "id": "n_QsMi9bTvP2"
      },
      "source": [
        "#Duplicate"
      ]
    },
    {
      "cell_type": "markdown",
      "metadata": {
        "id": "Guxf4DMnW0CS"
      },
      "source": [
        "Tujuan dilakukan cek duplikat adalah mengecek apakah dalam suatu data set ada data yang duplikat atau tidak. "
      ]
    },
    {
      "cell_type": "code",
      "execution_count": 11,
      "metadata": {
        "colab": {
          "base_uri": "https://localhost:8080/"
        },
        "id": "gJgp4kKfQi-2",
        "outputId": "e9820eae-82a8-4104-9541-0cfe4e212e7f"
      },
      "outputs": [
        {
          "output_type": "execute_result",
          "data": {
            "text/plain": [
              "1.0"
            ]
          },
          "metadata": {},
          "execution_count": 11
        }
      ],
      "source": [
        "#cek apakah ada data yang duplikat pada data set\n",
        "len(data.drop_duplicates()) / len(data)"
      ]
    },
    {
      "cell_type": "markdown",
      "metadata": {
        "id": "VRuxYDmBT3vZ"
      },
      "source": [
        "Dari hasil output diatas menunjukan angka 1 yang artinya tidak ada data duplikat pada data set tersebut. "
      ]
    },
    {
      "cell_type": "markdown",
      "metadata": {
        "id": "ll_upwiXW9Ij"
      },
      "source": [
        "#Outlier"
      ]
    },
    {
      "cell_type": "markdown",
      "metadata": {
        "id": "a93Cqvldh9SO"
      },
      "source": [
        "Outlier handling diperlukan untuk mengecek jika terdapat data yang ekstrim dalam suatu data set. Biasanya di cek dengan menggunakan box plot. Data yang bisa di cek menggunakan Box Plot hanya data yang bertipe numeric(angka).\n",
        "\n",
        "Saat di cek tipe datanya terdapat 4 kolom yang datanya terdiri dari angka(float,int). Yaitu kolom tenure, MonthlyCharges, Gender, dan TotalCharges. Tetapi kita tidak udah mengecek gender karna datanya hanya terdiri dari 2 angka (0 dan 1)."
      ]
    },
    {
      "cell_type": "code",
      "execution_count": 12,
      "metadata": {
        "colab": {
          "base_uri": "https://localhost:8080/",
          "height": 0
        },
        "id": "VIy1W_MIXPpD",
        "outputId": "166eb15b-c48d-4f0c-f81c-b923796dd1bc"
      },
      "outputs": [
        {
          "output_type": "execute_result",
          "data": {
            "text/plain": [
              "<matplotlib.axes._subplots.AxesSubplot at 0x7f4eb763c8d0>"
            ]
          },
          "metadata": {},
          "execution_count": 12
        },
        {
          "output_type": "display_data",
          "data": {
            "image/png": "[encoded data removed]",
            "text/plain": [
              "<Figure size 432x288 with 1 Axes>"
            ]
          },
          "metadata": {
            "needs_background": "light"
          }
        }
      ],
      "source": [
        "#Mengecek apakah ada nilai outlier pada kolom 'tenure'\n",
        "data[['tenure']].boxplot()"
      ]
    },
    {
      "cell_type": "code",
      "execution_count": 13,
      "metadata": {
        "colab": {
          "base_uri": "https://localhost:8080/",
          "height": 0
        },
        "id": "HSkiR2GnXeRK",
        "outputId": "21125299-dc94-43cc-f907-4f9154857de0"
      },
      "outputs": [
        {
          "output_type": "execute_result",
          "data": {
            "text/plain": [
              "<matplotlib.axes._subplots.AxesSubplot at 0x7f4eb758a850>"
            ]
          },
          "metadata": {},
          "execution_count": 13
        },
        {
          "output_type": "display_data",
          "data": {
            "image/png": "[encoded data removed]",
            "text/plain": [
              "<Figure size 432x288 with 1 Axes>"
            ]
          },
          "metadata": {
            "needs_background": "light"
          }
        }
      ],
      "source": [
        "#Mengecek apakah ada nilai outlier pada kolom data 'MonthlyCharges'\n",
        "data[['MonthlyCharges']].boxplot()"
      ]
    },
    {
      "cell_type": "code",
      "source": [
        "data[['TotalCharges']].boxplot()"
      ],
      "metadata": {
        "colab": {
          "base_uri": "https://localhost:8080/",
          "height": 0
        },
        "id": "uIhV-_0SMx0i",
        "outputId": "7dc3f598-6dd0-4eb8-dbba-3dfa1af2f55f"
      },
      "execution_count": 14,
      "outputs": [
        {
          "output_type": "execute_result",
          "data": {
            "text/plain": [
              "<matplotlib.axes._subplots.AxesSubplot at 0x7f4eb70abad0>"
            ]
          },
          "metadata": {},
          "execution_count": 14
        },
        {
          "output_type": "display_data",
          "data": {
            "image/png": "[encoded data removed]",
            "text/plain": [
              "<Figure size 432x288 with 1 Axes>"
            ]
          },
          "metadata": {
            "needs_background": "light"
          }
        }
      ]
    },
    {
      "cell_type": "markdown",
      "metadata": {
        "id": "oA3ztD1QjF0g"
      },
      "source": [
        "Setelah di cek menggunakan Boxplot tidak terdapat outlier pada kolom data tenure, MonthlyCharges, dan TotalCharges. "
      ]
    },
    {
      "cell_type": "markdown",
      "metadata": {
        "id": "m8kduyUWjejU"
      },
      "source": [
        "#Categorical Data Encoding"
      ]
    },
    {
      "cell_type": "markdown",
      "metadata": {
        "id": "v1cEqqd5jj7z"
      },
      "source": [
        "Pada saat ingin membuat model ML, komputer hanya dapat memproses data yang berupa angka. Maka dari itu kita perlu mengubah data yang tipenya Object(str) menjadi data numerik(angka).\n",
        "\n",
        "Saya akan menggunakan Label Encoding untuk mengubah data menjadi data numerik agar datanya berubah menjadi numerik tetapi kolomnya tidak bertambah "
      ]
    },
    {
      "cell_type": "code",
      "execution_count": 15,
      "metadata": {
        "colab": {
          "base_uri": "https://localhost:8080/"
        },
        "id": "rLCWD7RgjizI",
        "outputId": "27977aeb-c9e0-455e-c5f0-887b59202aa1"
      },
      "outputs": [
        {
          "output_type": "execute_result",
          "data": {
            "text/plain": [
              "array([0, 1])"
            ]
          },
          "metadata": {},
          "execution_count": 15
        }
      ],
      "source": [
        "#mengubah data gender menjadi numeric\n",
        "label_encoder = preprocessing.LabelEncoder()\n",
        "data['gender']= label_encoder.fit_transform(data['gender'])\n",
        " \n",
        "data['gender'].unique()"
      ]
    },
    {
      "cell_type": "code",
      "source": [
        "#mengubah data SeniorCitizen menjadi numeric\n",
        "label_encoder = preprocessing.LabelEncoder()\n",
        "data['SeniorCitizen']= label_encoder.fit_transform(data['SeniorCitizen'])\n",
        " \n",
        "data['SeniorCitizen'].unique()"
      ],
      "metadata": {
        "colab": {
          "base_uri": "https://localhost:8080/"
        },
        "id": "PyNwLpRYNAJ9",
        "outputId": "3d7eda00-6359-4f9d-f6e6-9cfe95cf998d"
      },
      "execution_count": 16,
      "outputs": [
        {
          "output_type": "execute_result",
          "data": {
            "text/plain": [
              "array([0, 1])"
            ]
          },
          "metadata": {},
          "execution_count": 16
        }
      ]
    },
    {
      "cell_type": "code",
      "source": [
        "#mengubah data Partner menjadi numeric\n",
        "label_encoder = preprocessing.LabelEncoder()\n",
        "data['Partner']= label_encoder.fit_transform(data['Partner'])\n",
        " \n",
        "data['Partner'].unique()"
      ],
      "metadata": {
        "colab": {
          "base_uri": "https://localhost:8080/"
        },
        "id": "iFuST6mkNRTM",
        "outputId": "97c50b37-d03d-48a0-9e8d-6d6ff45ac7b0"
      },
      "execution_count": 17,
      "outputs": [
        {
          "output_type": "execute_result",
          "data": {
            "text/plain": [
              "array([1, 0])"
            ]
          },
          "metadata": {},
          "execution_count": 17
        }
      ]
    },
    {
      "cell_type": "code",
      "source": [
        "#mengubah data Dependents menjadi numeric\n",
        "label_encoder = preprocessing.LabelEncoder()\n",
        "data['Dependents']= label_encoder.fit_transform(data['Dependents'])\n",
        " \n",
        "data['Dependents'].unique()"
      ],
      "metadata": {
        "colab": {
          "base_uri": "https://localhost:8080/"
        },
        "id": "vLegxZO7Ngl0",
        "outputId": "7e72d047-b646-4ab1-fcf8-8c8bb6867dbb"
      },
      "execution_count": 18,
      "outputs": [
        {
          "output_type": "execute_result",
          "data": {
            "text/plain": [
              "array([0, 1])"
            ]
          },
          "metadata": {},
          "execution_count": 18
        }
      ]
    },
    {
      "cell_type": "code",
      "source": [
        "#mengubah data PhoneService menjadi numeric\n",
        "label_encoder = preprocessing.LabelEncoder()\n",
        "data['PhoneService']= label_encoder.fit_transform(data['PhoneService'])\n",
        " \n",
        "data['PhoneService'].unique()"
      ],
      "metadata": {
        "colab": {
          "base_uri": "https://localhost:8080/"
        },
        "id": "HkU_Y7tqNnp7",
        "outputId": "e395a5e3-59c9-412e-d30f-c7411e2302c1"
      },
      "execution_count": 19,
      "outputs": [
        {
          "output_type": "execute_result",
          "data": {
            "text/plain": [
              "array([0, 1])"
            ]
          },
          "metadata": {},
          "execution_count": 19
        }
      ]
    },
    {
      "cell_type": "code",
      "source": [
        "#mengubah data MultipleLines menjadi numeric\n",
        "label_encoder = preprocessing.LabelEncoder()\n",
        "data['MultipleLines']= label_encoder.fit_transform(data['MultipleLines'])\n",
        " \n",
        "data['MultipleLines'].unique()"
      ],
      "metadata": {
        "colab": {
          "base_uri": "https://localhost:8080/"
        },
        "id": "8QSvvk5fNuyG",
        "outputId": "7766b252-77e2-4b36-e23b-2807a881b5e9"
      },
      "execution_count": 20,
      "outputs": [
        {
          "output_type": "execute_result",
          "data": {
            "text/plain": [
              "array([1, 0, 2])"
            ]
          },
          "metadata": {},
          "execution_count": 20
        }
      ]
    },
    {
      "cell_type": "code",
      "source": [
        "#mengubah data InternetService menjadi numeric\n",
        "label_encoder = preprocessing.LabelEncoder()\n",
        "data['InternetService']= label_encoder.fit_transform(data['InternetService'])\n",
        " \n",
        "data['InternetService'].unique()"
      ],
      "metadata": {
        "colab": {
          "base_uri": "https://localhost:8080/"
        },
        "id": "8Xp6sBYgN_AE",
        "outputId": "4507fece-3a0e-4f14-8aee-c1ffb1d866d9"
      },
      "execution_count": 21,
      "outputs": [
        {
          "output_type": "execute_result",
          "data": {
            "text/plain": [
              "array([0, 1, 2])"
            ]
          },
          "metadata": {},
          "execution_count": 21
        }
      ]
    },
    {
      "cell_type": "code",
      "source": [
        "#mengubah data OnlineSecurity menjadi numeric\n",
        "label_encoder = preprocessing.LabelEncoder()\n",
        "data['OnlineSecurity']= label_encoder.fit_transform(data['OnlineSecurity'])\n",
        " \n",
        "data['OnlineSecurity'].unique()"
      ],
      "metadata": {
        "colab": {
          "base_uri": "https://localhost:8080/"
        },
        "id": "N-xRBMPrOGBe",
        "outputId": "2f7357f5-0a32-46ed-e8fd-f81772b5e5f1"
      },
      "execution_count": 22,
      "outputs": [
        {
          "output_type": "execute_result",
          "data": {
            "text/plain": [
              "array([0, 2, 1])"
            ]
          },
          "metadata": {},
          "execution_count": 22
        }
      ]
    },
    {
      "cell_type": "code",
      "source": [
        "#mengubah data OnlineBackup menjadi numeric\n",
        "label_encoder = preprocessing.LabelEncoder()\n",
        "data['OnlineBackup']= label_encoder.fit_transform(data['OnlineBackup'])\n",
        " \n",
        "data['OnlineBackup'].unique()"
      ],
      "metadata": {
        "colab": {
          "base_uri": "https://localhost:8080/"
        },
        "id": "hvzLikzyOPEF",
        "outputId": "140eb389-624a-499c-a1bd-2a4e7fd47949"
      },
      "execution_count": 23,
      "outputs": [
        {
          "output_type": "execute_result",
          "data": {
            "text/plain": [
              "array([2, 0, 1])"
            ]
          },
          "metadata": {},
          "execution_count": 23
        }
      ]
    },
    {
      "cell_type": "code",
      "source": [
        "#mengubah data DeviceProtection menjadi numeric\n",
        "label_encoder = preprocessing.LabelEncoder()\n",
        "data['DeviceProtection']= label_encoder.fit_transform(data['DeviceProtection'])\n",
        " \n",
        "data['DeviceProtection'].unique()"
      ],
      "metadata": {
        "colab": {
          "base_uri": "https://localhost:8080/"
        },
        "id": "H1O4UbMuOWMT",
        "outputId": "e8bdfb5c-d292-4743-afdc-9533e3ffe1a0"
      },
      "execution_count": 24,
      "outputs": [
        {
          "output_type": "execute_result",
          "data": {
            "text/plain": [
              "array([0, 2, 1])"
            ]
          },
          "metadata": {},
          "execution_count": 24
        }
      ]
    },
    {
      "cell_type": "code",
      "source": [
        "#mengubah data TechSupport menjadi numeric\n",
        "label_encoder = preprocessing.LabelEncoder()\n",
        "data['TechSupport']= label_encoder.fit_transform(data['TechSupport'])\n",
        " \n",
        "data['TechSupport'].unique()"
      ],
      "metadata": {
        "colab": {
          "base_uri": "https://localhost:8080/"
        },
        "id": "WI_nJpiSOcQQ",
        "outputId": "03b932e0-3b99-4d33-93cf-8d942afab3be"
      },
      "execution_count": 25,
      "outputs": [
        {
          "output_type": "execute_result",
          "data": {
            "text/plain": [
              "array([0, 2, 1])"
            ]
          },
          "metadata": {},
          "execution_count": 25
        }
      ]
    },
    {
      "cell_type": "code",
      "source": [
        "#mengubah data StreamingTV menjadi numeric\n",
        "label_encoder = preprocessing.LabelEncoder()\n",
        "data['StreamingTV']= label_encoder.fit_transform(data['StreamingTV'])\n",
        " \n",
        "data['StreamingTV'].unique()"
      ],
      "metadata": {
        "colab": {
          "base_uri": "https://localhost:8080/"
        },
        "id": "ekXk117eOkXB",
        "outputId": "abd51d51-35aa-4672-e2dc-0a23f856ddcc"
      },
      "execution_count": 26,
      "outputs": [
        {
          "output_type": "execute_result",
          "data": {
            "text/plain": [
              "array([0, 2, 1])"
            ]
          },
          "metadata": {},
          "execution_count": 26
        }
      ]
    },
    {
      "cell_type": "code",
      "source": [
        "#mengubah data StreamingMovies menjadi numeric\n",
        "label_encoder = preprocessing.LabelEncoder()\n",
        "data['StreamingMovies']= label_encoder.fit_transform(data['StreamingMovies'])\n",
        " \n",
        "data['StreamingMovies'].unique()"
      ],
      "metadata": {
        "colab": {
          "base_uri": "https://localhost:8080/"
        },
        "id": "aPsXOMvBOsVD",
        "outputId": "d9e1f0ce-b4a9-4ee4-ce31-b2189fb75df3"
      },
      "execution_count": 27,
      "outputs": [
        {
          "output_type": "execute_result",
          "data": {
            "text/plain": [
              "array([0, 2, 1])"
            ]
          },
          "metadata": {},
          "execution_count": 27
        }
      ]
    },
    {
      "cell_type": "code",
      "source": [
        "#mengubah data StreamingMovies menjadi numeric\n",
        "label_encoder = preprocessing.LabelEncoder()\n",
        "data['Contract']= label_encoder.fit_transform(data['Contract'])\n",
        " \n",
        "data['Contract'].unique()"
      ],
      "metadata": {
        "colab": {
          "base_uri": "https://localhost:8080/"
        },
        "id": "HyTKwes-O0Su",
        "outputId": "ece02f4a-6d70-4c9e-fe86-1bf951124bf9"
      },
      "execution_count": 28,
      "outputs": [
        {
          "output_type": "execute_result",
          "data": {
            "text/plain": [
              "array([0, 1, 2])"
            ]
          },
          "metadata": {},
          "execution_count": 28
        }
      ]
    },
    {
      "cell_type": "code",
      "source": [
        "#mengubah data PaperlessBilling menjadi numeric\n",
        "label_encoder = preprocessing.LabelEncoder()\n",
        "data['PaperlessBilling']= label_encoder.fit_transform(data['PaperlessBilling'])\n",
        " \n",
        "data['PaperlessBilling'].unique()"
      ],
      "metadata": {
        "colab": {
          "base_uri": "https://localhost:8080/"
        },
        "id": "MOkKLLqgO6Aa",
        "outputId": "3fa3b700-5ff1-40c2-f2cd-664e5094cd69"
      },
      "execution_count": 29,
      "outputs": [
        {
          "output_type": "execute_result",
          "data": {
            "text/plain": [
              "array([1, 0])"
            ]
          },
          "metadata": {},
          "execution_count": 29
        }
      ]
    },
    {
      "cell_type": "code",
      "source": [
        "#mengubah data PaperlessBilling menjadi numeric\n",
        "label_encoder = preprocessing.LabelEncoder()\n",
        "data['PaymentMethod']= label_encoder.fit_transform(data['PaymentMethod'])\n",
        " \n",
        "data['PaymentMethod'].unique()"
      ],
      "metadata": {
        "colab": {
          "base_uri": "https://localhost:8080/"
        },
        "id": "ZdiASi4ePDeZ",
        "outputId": "05744e78-e780-44de-a2bb-adbb6aaa7c1e"
      },
      "execution_count": 30,
      "outputs": [
        {
          "output_type": "execute_result",
          "data": {
            "text/plain": [
              "array([2, 3, 0, 1])"
            ]
          },
          "metadata": {},
          "execution_count": 30
        }
      ]
    },
    {
      "cell_type": "code",
      "source": [
        "#mengubah data PaperlessBilling menjadi numeric\n",
        "label_encoder = preprocessing.LabelEncoder()\n",
        "data['Churn']= label_encoder.fit_transform(data['Churn'])\n",
        " \n",
        "data['Churn'].unique()"
      ],
      "metadata": {
        "colab": {
          "base_uri": "https://localhost:8080/"
        },
        "id": "mpl4450LPJX3",
        "outputId": "286c6cda-678e-4448-acd9-88ec7572eae4"
      },
      "execution_count": 31,
      "outputs": [
        {
          "output_type": "execute_result",
          "data": {
            "text/plain": [
              "array([0, 1])"
            ]
          },
          "metadata": {},
          "execution_count": 31
        }
      ]
    },
    {
      "cell_type": "markdown",
      "source": [
        "#Scaling"
      ],
      "metadata": {
        "id": "ngqKpTtMPVIP"
      }
    },
    {
      "cell_type": "markdown",
      "source": [
        "Scaling data di perlukan karna data dengan skala yang sama dan centered akan mempercepat algoritma pembelajaran. "
      ],
      "metadata": {
        "id": "3qU73kY1H8ho"
      }
    },
    {
      "cell_type": "code",
      "source": [
        "#cek sebaran data tenure normal atau tidak \n",
        "tenure = data['tenure']\n",
        "density = stats.gaussian_kde(tenure)\n",
        "n, x, _ = plt.hist(tenure, histtype='step', bins=25)  \n",
        "plt.plot(x, density(x)*2**7.5)\n",
        "plt.show()"
      ],
      "metadata": {
        "colab": {
          "base_uri": "https://localhost:8080/",
          "height": 264
        },
        "id": "BxinO-wFPEeM",
        "outputId": "0bc0686b-c74b-4032-851b-b2fb05967c38"
      },
      "execution_count": 37,
      "outputs": [
        {
          "output_type": "display_data",
          "data": {
            "image/png": "[encoded data removed]",
            "text/plain": [
              "<Figure size 432x288 with 1 Axes>"
            ]
          },
          "metadata": {
            "needs_background": "light"
          }
        }
      ]
    },
    {
      "cell_type": "markdown",
      "source": [
        "Karna sebaran datanya tidak normal, maka kita melakukan min-max normalisasi pada data tersebut. "
      ],
      "metadata": {
        "id": "_9gzb7mpPnaH"
      }
    },
    {
      "cell_type": "code",
      "source": [
        "def min_max(series_col):\n",
        "    return (series_col - series_col.min()) / (series_col.max()-series_col.min())\n",
        "\n",
        "data['tenure'] = min_max(data['tenure'])"
      ],
      "metadata": {
        "id": "mDuJU86zUlRz"
      },
      "execution_count": 38,
      "outputs": []
    },
    {
      "cell_type": "code",
      "source": [
        "#cek sebaran data Monthlycharges normal atau tidak \n",
        "MonthlyCharges = data['MonthlyCharges']\n",
        "density = stats.gaussian_kde(MonthlyCharges)\n",
        "n, x, _ = plt.hist(MonthlyCharges, histtype='step', bins=25)  \n",
        "plt.plot(x, density(x)*2**7.5)\n",
        "plt.show()"
      ],
      "metadata": {
        "colab": {
          "base_uri": "https://localhost:8080/",
          "height": 264
        },
        "id": "f1ZgH4-_QSMr",
        "outputId": "c5e21b67-ab33-4d99-8e20-a21df8f3231e"
      },
      "execution_count": 39,
      "outputs": [
        {
          "output_type": "display_data",
          "data": {
            "image/png": "[encoded data removed]",
            "text/plain": [
              "<Figure size 432x288 with 1 Axes>"
            ]
          },
          "metadata": {
            "needs_background": "light"
          }
        }
      ]
    },
    {
      "cell_type": "markdown",
      "source": [
        "Karna sebaran datanya tidak normal, maka kita melakukan min-max normalisasi pada data tersebut."
      ],
      "metadata": {
        "id": "rWyv477aQkP3"
      }
    },
    {
      "cell_type": "code",
      "source": [
        "def min_max(series_col):\n",
        "    return (series_col - series_col.min()) / (series_col.max()-series_col.min())\n",
        "\n",
        "data['MonthlyCharges'] = min_max(data['MonthlyCharges'])"
      ],
      "metadata": {
        "id": "VstJ-39qHReI"
      },
      "execution_count": 40,
      "outputs": []
    },
    {
      "cell_type": "code",
      "source": [
        "def min_max(series_col):\n",
        "    return (series_col - series_col.min()) / (series_col.max()-series_col.min())\n",
        "\n",
        "data['TotalCharges'] = min_max(data['TotalCharges'])"
      ],
      "metadata": {
        "id": "bfoDOz2cHgjb"
      },
      "execution_count": 41,
      "outputs": []
    },
    {
      "cell_type": "markdown",
      "source": [
        "#Drop"
      ],
      "metadata": {
        "id": "IbqzhrKOXiTr"
      }
    },
    {
      "cell_type": "markdown",
      "source": [
        "Menghapus kolom customerID karna kolom tersebut tidak terlalu pengaruh pada data customer churn. "
      ],
      "metadata": {
        "id": "WOeMLciqXnXS"
      }
    },
    {
      "cell_type": "code",
      "source": [
        "data.drop('customerID', inplace=True, axis=1)"
      ],
      "metadata": {
        "id": "DVHqyxyfXj7Z"
      },
      "execution_count": 42,
      "outputs": []
    },
    {
      "cell_type": "markdown",
      "source": [
        "#Final clean data"
      ],
      "metadata": {
        "id": "tLkpi_gKTHKu"
      }
    },
    {
      "cell_type": "code",
      "source": [
        "data"
      ],
      "metadata": {
        "colab": {
          "base_uri": "https://localhost:8080/",
          "height": 443
        },
        "id": "vHqv8AFfHTK7",
        "outputId": "c424ff98-ed2e-46da-f583-4ea3cb0ecaf5"
      },
      "execution_count": 43,
      "outputs": [
        {
          "output_type": "execute_result",
          "data": {
            "text/html": [
              "<div>\n",
              "<style scoped>\n",
              "    .dataframe tbody tr th:only-of-type {\n",
              "        vertical-align: middle;\n",
              "    }\n",
              "\n",
              "    .dataframe tbody tr th {\n",
              "        vertical-align: top;\n",
              "    }\n",
              "\n",
              "    .dataframe thead th {\n",
              "        text-align: right;\n",
              "    }\n",
              "</style>\n",
              "<table border=\"1\" class=\"dataframe\">\n",
              "  <thead>\n",
              "    <tr style=\"text-align: right;\">\n",
              "      <th></th>\n",
              "      <th>gender</th>\n",
              "      <th>SeniorCitizen</th>\n",
              "      <th>Partner</th>\n",
              "      <th>Dependents</th>\n",
              "      <th>tenure</th>\n",
              "      <th>PhoneService</th>\n",
              "      <th>MultipleLines</th>\n",
              "      <th>InternetService</th>\n",
              "      <th>OnlineSecurity</th>\n",
              "      <th>OnlineBackup</th>\n",
              "      <th>DeviceProtection</th>\n",
              "      <th>TechSupport</th>\n",
              "      <th>StreamingTV</th>\n",
              "      <th>StreamingMovies</th>\n",
              "      <th>Contract</th>\n",
              "      <th>PaperlessBilling</th>\n",
              "      <th>PaymentMethod</th>\n",
              "      <th>MonthlyCharges</th>\n",
              "      <th>TotalCharges</th>\n",
              "      <th>Churn</th>\n",
              "    </tr>\n",
              "  </thead>\n",
              "  <tbody>\n",
              "    <tr>\n",
              "      <th>0</th>\n",
              "      <td>0</td>\n",
              "      <td>0</td>\n",
              "      <td>1</td>\n",
              "      <td>0</td>\n",
              "      <td>0.013889</td>\n",
              "      <td>0</td>\n",
              "      <td>1</td>\n",
              "      <td>0</td>\n",
              "      <td>0</td>\n",
              "      <td>2</td>\n",
              "      <td>0</td>\n",
              "      <td>0</td>\n",
              "      <td>0</td>\n",
              "      <td>0</td>\n",
              "      <td>0</td>\n",
              "      <td>1</td>\n",
              "      <td>2</td>\n",
              "      <td>0.115423</td>\n",
              "      <td>0.001275</td>\n",
              "      <td>0</td>\n",
              "    </tr>\n",
              "    <tr>\n",
              "      <th>1</th>\n",
              "      <td>1</td>\n",
              "      <td>0</td>\n",
              "      <td>0</td>\n",
              "      <td>0</td>\n",
              "      <td>0.472222</td>\n",
              "      <td>1</td>\n",
              "      <td>0</td>\n",
              "      <td>0</td>\n",
              "      <td>2</td>\n",
              "      <td>0</td>\n",
              "      <td>2</td>\n",
              "      <td>0</td>\n",
              "      <td>0</td>\n",
              "      <td>0</td>\n",
              "      <td>1</td>\n",
              "      <td>0</td>\n",
              "      <td>3</td>\n",
              "      <td>0.385075</td>\n",
              "      <td>0.215867</td>\n",
              "      <td>0</td>\n",
              "    </tr>\n",
              "    <tr>\n",
              "      <th>2</th>\n",
              "      <td>1</td>\n",
              "      <td>0</td>\n",
              "      <td>0</td>\n",
              "      <td>0</td>\n",
              "      <td>0.027778</td>\n",
              "      <td>1</td>\n",
              "      <td>0</td>\n",
              "      <td>0</td>\n",
              "      <td>2</td>\n",
              "      <td>2</td>\n",
              "      <td>0</td>\n",
              "      <td>0</td>\n",
              "      <td>0</td>\n",
              "      <td>0</td>\n",
              "      <td>0</td>\n",
              "      <td>1</td>\n",
              "      <td>3</td>\n",
              "      <td>0.354229</td>\n",
              "      <td>0.010310</td>\n",
              "      <td>1</td>\n",
              "    </tr>\n",
              "    <tr>\n",
              "      <th>3</th>\n",
              "      <td>1</td>\n",
              "      <td>0</td>\n",
              "      <td>0</td>\n",
              "      <td>0</td>\n",
              "      <td>0.625000</td>\n",
              "      <td>0</td>\n",
              "      <td>1</td>\n",
              "      <td>0</td>\n",
              "      <td>2</td>\n",
              "      <td>0</td>\n",
              "      <td>2</td>\n",
              "      <td>2</td>\n",
              "      <td>0</td>\n",
              "      <td>0</td>\n",
              "      <td>1</td>\n",
              "      <td>0</td>\n",
              "      <td>0</td>\n",
              "      <td>0.239303</td>\n",
              "      <td>0.210241</td>\n",
              "      <td>0</td>\n",
              "    </tr>\n",
              "    <tr>\n",
              "      <th>4</th>\n",
              "      <td>0</td>\n",
              "      <td>0</td>\n",
              "      <td>0</td>\n",
              "      <td>0</td>\n",
              "      <td>0.027778</td>\n",
              "      <td>1</td>\n",
              "      <td>0</td>\n",
              "      <td>1</td>\n",
              "      <td>0</td>\n",
              "      <td>0</td>\n",
              "      <td>0</td>\n",
              "      <td>0</td>\n",
              "      <td>0</td>\n",
              "      <td>0</td>\n",
              "      <td>0</td>\n",
              "      <td>1</td>\n",
              "      <td>2</td>\n",
              "      <td>0.521891</td>\n",
              "      <td>0.015330</td>\n",
              "      <td>1</td>\n",
              "    </tr>\n",
              "    <tr>\n",
              "      <th>...</th>\n",
              "      <td>...</td>\n",
              "      <td>...</td>\n",
              "      <td>...</td>\n",
              "      <td>...</td>\n",
              "      <td>...</td>\n",
              "      <td>...</td>\n",
              "      <td>...</td>\n",
              "      <td>...</td>\n",
              "      <td>...</td>\n",
              "      <td>...</td>\n",
              "      <td>...</td>\n",
              "      <td>...</td>\n",
              "      <td>...</td>\n",
              "      <td>...</td>\n",
              "      <td>...</td>\n",
              "      <td>...</td>\n",
              "      <td>...</td>\n",
              "      <td>...</td>\n",
              "      <td>...</td>\n",
              "      <td>...</td>\n",
              "    </tr>\n",
              "    <tr>\n",
              "      <th>7038</th>\n",
              "      <td>1</td>\n",
              "      <td>0</td>\n",
              "      <td>1</td>\n",
              "      <td>1</td>\n",
              "      <td>0.333333</td>\n",
              "      <td>1</td>\n",
              "      <td>2</td>\n",
              "      <td>0</td>\n",
              "      <td>2</td>\n",
              "      <td>0</td>\n",
              "      <td>2</td>\n",
              "      <td>2</td>\n",
              "      <td>2</td>\n",
              "      <td>2</td>\n",
              "      <td>1</td>\n",
              "      <td>1</td>\n",
              "      <td>3</td>\n",
              "      <td>0.662189</td>\n",
              "      <td>0.227521</td>\n",
              "      <td>0</td>\n",
              "    </tr>\n",
              "    <tr>\n",
              "      <th>7039</th>\n",
              "      <td>0</td>\n",
              "      <td>0</td>\n",
              "      <td>1</td>\n",
              "      <td>1</td>\n",
              "      <td>1.000000</td>\n",
              "      <td>1</td>\n",
              "      <td>2</td>\n",
              "      <td>1</td>\n",
              "      <td>0</td>\n",
              "      <td>2</td>\n",
              "      <td>2</td>\n",
              "      <td>0</td>\n",
              "      <td>2</td>\n",
              "      <td>2</td>\n",
              "      <td>1</td>\n",
              "      <td>1</td>\n",
              "      <td>1</td>\n",
              "      <td>0.845274</td>\n",
              "      <td>0.847461</td>\n",
              "      <td>0</td>\n",
              "    </tr>\n",
              "    <tr>\n",
              "      <th>7040</th>\n",
              "      <td>0</td>\n",
              "      <td>0</td>\n",
              "      <td>1</td>\n",
              "      <td>1</td>\n",
              "      <td>0.152778</td>\n",
              "      <td>0</td>\n",
              "      <td>1</td>\n",
              "      <td>0</td>\n",
              "      <td>2</td>\n",
              "      <td>0</td>\n",
              "      <td>0</td>\n",
              "      <td>0</td>\n",
              "      <td>0</td>\n",
              "      <td>0</td>\n",
              "      <td>0</td>\n",
              "      <td>1</td>\n",
              "      <td>2</td>\n",
              "      <td>0.112935</td>\n",
              "      <td>0.037809</td>\n",
              "      <td>0</td>\n",
              "    </tr>\n",
              "    <tr>\n",
              "      <th>7041</th>\n",
              "      <td>1</td>\n",
              "      <td>1</td>\n",
              "      <td>1</td>\n",
              "      <td>0</td>\n",
              "      <td>0.055556</td>\n",
              "      <td>1</td>\n",
              "      <td>2</td>\n",
              "      <td>1</td>\n",
              "      <td>0</td>\n",
              "      <td>0</td>\n",
              "      <td>0</td>\n",
              "      <td>0</td>\n",
              "      <td>0</td>\n",
              "      <td>0</td>\n",
              "      <td>0</td>\n",
              "      <td>1</td>\n",
              "      <td>3</td>\n",
              "      <td>0.558706</td>\n",
              "      <td>0.033210</td>\n",
              "      <td>1</td>\n",
              "    </tr>\n",
              "    <tr>\n",
              "      <th>7042</th>\n",
              "      <td>1</td>\n",
              "      <td>0</td>\n",
              "      <td>0</td>\n",
              "      <td>0</td>\n",
              "      <td>0.916667</td>\n",
              "      <td>1</td>\n",
              "      <td>0</td>\n",
              "      <td>1</td>\n",
              "      <td>2</td>\n",
              "      <td>0</td>\n",
              "      <td>2</td>\n",
              "      <td>2</td>\n",
              "      <td>2</td>\n",
              "      <td>2</td>\n",
              "      <td>2</td>\n",
              "      <td>1</td>\n",
              "      <td>0</td>\n",
              "      <td>0.869652</td>\n",
              "      <td>0.787641</td>\n",
              "      <td>0</td>\n",
              "    </tr>\n",
              "  </tbody>\n",
              "</table>\n",
              "<p>7043 rows × 20 columns</p>\n",
              "</div>"
            ],
            "text/plain": [
              "      gender  SeniorCitizen  Partner  ...  MonthlyCharges  TotalCharges  Churn\n",
              "0          0              0        1  ...        0.115423      0.001275      0\n",
              "1          1              0        0  ...        0.385075      0.215867      0\n",
              "2          1              0        0  ...        0.354229      0.010310      1\n",
              "3          1              0        0  ...        0.239303      0.210241      0\n",
              "4          0              0        0  ...        0.521891      0.015330      1\n",
              "...      ...            ...      ...  ...             ...           ...    ...\n",
              "7038       1              0        1  ...        0.662189      0.227521      0\n",
              "7039       0              0        1  ...        0.845274      0.847461      0\n",
              "7040       0              0        1  ...        0.112935      0.037809      0\n",
              "7041       1              1        1  ...        0.558706      0.033210      1\n",
              "7042       1              0        0  ...        0.869652      0.787641      0\n",
              "\n",
              "[7043 rows x 20 columns]"
            ]
          },
          "metadata": {},
          "execution_count": 43
        }
      ]
    }
  ],
  "metadata": {
    "colab": {
      "name": "Data_cleaning_NovitaP.ipynb",
      "provenance": [],
      "collapsed_sections": [
        "EArokDrSTy3E",
        "YVcau1HlTPLx",
        "n_QsMi9bTvP2",
        "ll_upwiXW9Ij",
        "m8kduyUWjejU"
      ]
    },
    "kernelspec": {
      "display_name": "Python 3",
      "name": "python3"
    },
    "language_info": {
      "name": "python"
    }
  },
  "nbformat": 4,
  "nbformat_minor": 0
}